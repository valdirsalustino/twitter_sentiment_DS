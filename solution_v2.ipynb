{
 "cells": [
  {
   "cell_type": "markdown",
   "metadata": {},
   "source": [
    "# Importing and trainig a model"
   ]
  },
  {
   "cell_type": "markdown",
   "metadata": {},
   "source": [
    "## Defining methods"
   ]
  },
  {
   "cell_type": "code",
   "execution_count": 1,
   "metadata": {},
   "outputs": [],
   "source": [
    "import pandas as pd\n",
    "\n",
    "\n",
    "import html\n",
    "import unicodedata\n",
    "import string\n",
    "import re\n",
    "from nltk.stem import WordNetLemmatizer\n",
    "from html.parser import HTMLParser\n",
    "from pattern.en import tag\n",
    "import nltk\n",
    "from nltk.corpus import wordnet as wn\n",
    "from sklearn import metrics\n",
    "import numpy as np\n",
    "import pandas as pd\n",
    "from random import shuffle\n",
    "from matplotlib import pyplot as plt\n",
    "import itertools\n",
    "from sklearn.feature_extraction.text import CountVectorizer, TfidfVectorizer\n",
    "from sklearn.metrics import confusion_matrix\n",
    "from sklearn.model_selection import cross_val_score, cross_val_predict\n",
    "\n",
    "\n",
    "def build_feature_matrix(documents, max_features=None,\n",
    "                         feature_type='frequency',\n",
    "                         ngram_range=(1, 1),\n",
    "                         min_df=0.0, max_df=1.0,\n",
    "                         ):\n",
    "\n",
    "    feature_type = feature_type.lower().strip()\n",
    "\n",
    "    if feature_type == 'binary':\n",
    "        vectorizer = CountVectorizer(binary=True, \n",
    "                                     min_df=min_df,\n",
    "                                     max_df=max_df, \n",
    "                                     ngram_range=ngram_range,\n",
    "                                     max_features = max_features)\n",
    "    elif feature_type == 'frequency':\n",
    "        vectorizer = CountVectorizer(binary=False,\n",
    "                                     min_df=min_df,\n",
    "                                     max_df=max_df, \n",
    "                                     ngram_range=ngram_range, \n",
    "                                     max_features=max_features)\n",
    "    elif feature_type == 'tfidf':\n",
    "        vectorizer = TfidfVectorizer(min_df=min_df, \n",
    "                                     max_df=max_df,\n",
    "                                     ngram_range=ngram_range,\n",
    "                                     max_features=max_features)\n",
    "    else:\n",
    "        raise Exception(\"Wrong feature type entered. Possible values: 'binary', 'frequency', 'tfidf'\")\n",
    "\n",
    "    feature_matrix = vectorizer.fit_transform(documents).astype(float)\n",
    "\n",
    "    return vectorizer, feature_matrix\n",
    "\n",
    "\n",
    "def remove_citation(text):\n",
    "    return ' '.join(re.sub(\"(@[A-Za-z0-9_]+)\",\" \",text).split())\n",
    "\n",
    "\n",
    "def remove_https(text):\n",
    "    return re.sub(r'http\\S+', '', text)\n",
    "\n",
    "def tokenize_text(text):\n",
    "    tokens = nltk.word_tokenize(text)\n",
    "    tokens = [token.strip() for token in tokens]\n",
    "    return tokens\n",
    "\n",
    "def keep_text_characters(text):\n",
    "    filtered_tokens = []\n",
    "    tokens = tokenize_text(text)\n",
    "    for token in tokens:\n",
    "        if re.search('[a-zA-Z]', token):\n",
    "            filtered_tokens.append(token)\n",
    "    filtered_text = ' '.join(filtered_tokens)\n",
    "    return filtered_text\n",
    "\n",
    "def remove_diacritics(text):\n",
    "    text = unicodedata.normalize('NFKD',str.encode(text).decode('utf-8')).encode('ascii', 'ignore')\n",
    "    return text\n",
    "\n",
    "\n",
    "class MLStripper(HTMLParser):\n",
    "    def __init__(self):\n",
    "        self.reset()\n",
    "        self.fed = []\n",
    "        self.convert_charrefs=[]\n",
    "    def handle_data(self, d):\n",
    "        self.fed.append(d)\n",
    "    def get_data(self):\n",
    "        return ' '.join(self.fed)\n",
    "\n",
    "def strip_html(text):\n",
    "    html_stripper = MLStripper()\n",
    "    html_stripper.feed(text)\n",
    "    return html_stripper.get_data()\n",
    "\n",
    "def normalize_tweet_corpus(corpus, only_text_chars=False):\n",
    "\n",
    "    normalized_corpus = []\n",
    "    for index, text in enumerate(corpus):\n",
    "        text = remove_citation(text)\n",
    "        text = remove_https(text)\n",
    "        text = remove_diacritics(text)\n",
    "        text = html.parser.unescape(text.decode())\n",
    "        text = strip_html(text)\n",
    "                \n",
    "        if only_text_chars:\n",
    "            text = keep_text_characters(text)\n",
    "        \n",
    "        text = text.lower()\n",
    "        normalized_corpus.append(text)\n",
    "\n",
    "    return normalized_corpus\n",
    "\n",
    "def evaluate_classifier(clf, train_features, y_train):\n",
    "    clf_score = cross_val_score(clf,train_features,y_train, cv=5, scoring='accuracy', n_jobs=-1)\n",
    "    print(\"Accuracy: %0.3f (+/- %0.3f)\" % (clf_score.mean(), clf_score.std() * 2))\n",
    "    y_train_pred = cross_val_predict(clf, train_features, y_train, cv=5)\n",
    "    conf_mx = confusion_matrix(y_train, y_train_pred)\n",
    "    plot_confusion_matrix(conf_mx,['negative','positive','neutro'],normalize=True)\n",
    "    \n",
    "    \n",
    "def plot_confusion_matrix(cm, classes,\n",
    "                          normalize=False,\n",
    "                          title='Confusion matrix',\n",
    "                          cmap=plt.cm.Blues):\n",
    "    \"\"\"\n",
    "    This function prints and plots the confusion matrix.\n",
    "    Normalization can be applied by setting `normalize=True`.\n",
    "    \"\"\"\n",
    "    if normalize:\n",
    "        cm = cm.astype('float') / cm.sum(axis=1)[:, np.newaxis]\n",
    "        #print(\"Normalized confusion matrix\")\n",
    "    else:\n",
    "        pass\n",
    "        #print('Confusion matrix, without normalization')\n",
    "\n",
    "    print(cm)\n",
    "\n",
    "    plt.imshow(cm, interpolation='nearest', cmap=cmap)\n",
    "    plt.title(title)\n",
    "    plt.colorbar()\n",
    "    tick_marks = np.arange(len(classes))\n",
    "    plt.xticks(tick_marks, classes, rotation=45)\n",
    "    plt.yticks(tick_marks, classes)\n",
    "\n",
    "    fmt = '.2f' if normalize else 'd'\n",
    "    thresh = cm.max() / 2.\n",
    "    for i, j in itertools.product(range(cm.shape[0]), range(cm.shape[1])):\n",
    "        plt.text(j, i, format(cm[i, j], fmt),\n",
    "                 horizontalalignment=\"center\",\n",
    "                 color=\"white\" if cm[i, j] > thresh else \"black\")\n",
    "\n",
    "    plt.ylabel('True label')\n",
    "    plt.xlabel('Predicted label')\n",
    "    plt.tight_layout()    "
   ]
  },
  {
   "cell_type": "code",
   "execution_count": 2,
   "metadata": {},
   "outputs": [
    {
     "name": "stdout",
     "output_type": "stream",
     "text": [
      "hoje estou de boa com a vida ate amanha boladao\n"
     ]
    }
   ],
   "source": [
    "tweet = 'Hoje  estou de boa com a vida, até amanhã :) #boladão. @claudinhodavila http://vidaloca'\n",
    "norm_tweet = normalize_tweet_corpus([tweet], only_text_chars=True)\n",
    "print(norm_tweet[0])"
   ]
  },
  {
   "cell_type": "code",
   "execution_count": 3,
   "metadata": {},
   "outputs": [],
   "source": [
    "df_pos_neg = pd.read_csv('samples/pos_neg.csv')\n",
    "df_neutro = pd.read_csv('samples/neutro.csv')\n",
    "df_pos_neg_u = df_pos_neg.drop_duplicates('tweet_text')\n",
    "\n",
    "# shuffle dataset\n",
    "df_pos_neg_u = df_pos_neg_u.sample(frac=1).reset_index(drop=True)\n",
    "df_neutro = df_neutro.sample(frac=1).reset_index(drop=True)"
   ]
  },
  {
   "cell_type": "code",
   "execution_count": 4,
   "metadata": {},
   "outputs": [],
   "source": [
    "df_pos_neg_e = pd.concat([df_pos_neg_u[df_pos_neg_u['sentiment']==0][:len(df_neutro)],\n",
    "                          df_pos_neg_u[df_pos_neg_u['sentiment']==1][:len(df_neutro)]])\n",
    "\n",
    "df_pos_neg_e = df_pos_neg_e.sample(frac=1).reset_index(drop=True)\n",
    "\n",
    "df_pos_neg_neutro = pd.concat([df_pos_neg_e,df_neutro])\n",
    "\n",
    "df_pos_neg_neutro = df_pos_neg_neutro.sample(frac=1).reset_index(drop=True)\n"
   ]
  },
  {
   "cell_type": "code",
   "execution_count": 5,
   "metadata": {},
   "outputs": [
    {
     "data": {
      "text/plain": [
       "0.0    52990\n",
       "2.0    52990\n",
       "1.0    52990\n",
       "Name: sentiment, dtype: int64"
      ]
     },
     "execution_count": 5,
     "metadata": {},
     "output_type": "execute_result"
    }
   ],
   "source": [
    "df_pos_neg_neutro['sentiment'].value_counts()"
   ]
  },
  {
   "cell_type": "code",
   "execution_count": 6,
   "metadata": {},
   "outputs": [],
   "source": [
    "from sklearn.model_selection import train_test_split\n",
    "X_train, X_test, y_train, y_test = train_test_split(df_pos_neg_neutro['tweet_text'].values, df_pos_neg_neutro['sentiment'].values,\n",
    "                                                    stratify=df_pos_neg_neutro['sentiment'].values, \n",
    "                                                    test_size=0.3)"
   ]
  },
  {
   "cell_type": "code",
   "execution_count": 7,
   "metadata": {},
   "outputs": [
    {
     "data": {
      "text/plain": [
       "array(['Os analistas que ajudam investidores a lucrar com o vaivém da Bolsa https://t.co/bxJDrlcWOe',\n",
       "       'Pra mim não aparece o emoji da Tag do BTS aaaa 💔 :( #BTSLoveYourselfTour #YTUnfreezeIDOL',\n",
       "       'acordei agora :) hora de posta muitos memes por minuto pra compensar',\n",
       "       ...,\n",
       "       'Estou baixando a Trasgo 11, repleta de contos de FC e Fantasia de primeira! :D https://t.co/VQ2yDNpcds via @revistatrasgo',\n",
       "       'minha mãe pediu pra eu dormir com ela hoje que elq tá muito assustada ainda :(',\n",
       "       'É, aparentemente vou ter q colar sozinho no rolê amanhã :('],\n",
       "      dtype=object)"
      ]
     },
     "execution_count": 7,
     "metadata": {},
     "output_type": "execute_result"
    }
   ],
   "source": [
    "X_test"
   ]
  },
  {
   "cell_type": "code",
   "execution_count": 8,
   "metadata": {},
   "outputs": [],
   "source": [
    "# training tweets\n",
    "norm_train_tweets = normalize_tweet_corpus(X_train, only_text_chars=False)"
   ]
  },
  {
   "cell_type": "code",
   "execution_count": 9,
   "metadata": {},
   "outputs": [],
   "source": [
    "# extract features\n",
    "# --------------------\n",
    "# train_features\n",
    "vectorizer, train_features = build_feature_matrix(documents=norm_train_tweets,\n",
    "                                                  feature_type='frequency',\n",
    "                                                  ngram_range=(1, 2),\n",
    "                                                  min_df=0.0, \n",
    "                                                  max_df=1.0)"
   ]
  },
  {
   "cell_type": "code",
   "execution_count": 10,
   "metadata": {},
   "outputs": [],
   "source": [
    "# normalize tweets\n",
    "norm_test_tweets = normalize_tweet_corpus(X_test, only_text_chars=False)\n",
    "\n",
    "# test_features\n",
    "test_features = vectorizer.transform(norm_test_tweets)"
   ]
  },
  {
   "cell_type": "code",
   "execution_count": 11,
   "metadata": {},
   "outputs": [
    {
     "data": {
      "text/plain": [
       "(111279, 589535)"
      ]
     },
     "execution_count": 11,
     "metadata": {},
     "output_type": "execute_result"
    }
   ],
   "source": [
    "train_features.shape"
   ]
  },
  {
   "cell_type": "code",
   "execution_count": 12,
   "metadata": {},
   "outputs": [
    {
     "data": {
      "text/plain": [
       "(47691, 589535)"
      ]
     },
     "execution_count": 12,
     "metadata": {},
     "output_type": "execute_result"
    }
   ],
   "source": [
    "test_features.shape"
   ]
  },
  {
   "cell_type": "markdown",
   "metadata": {},
   "source": [
    "### Models to try"
   ]
  },
  {
   "cell_type": "code",
   "execution_count": 18,
   "metadata": {},
   "outputs": [],
   "source": [
    "\n",
    "from sklearn.naive_bayes import MultinomialNB"
   ]
  },
  {
   "cell_type": "code",
   "execution_count": 14,
   "metadata": {},
   "outputs": [
    {
     "name": "stdout",
     "output_type": "stream",
     "text": [
      "Accuracy: 0.802 (+/- 0.002)\n",
      "[[0.76987572 0.21200766 0.01811663]\n",
      " [0.24125846 0.70277411 0.05596743]\n",
      " [0.01412665 0.05370285 0.93217049]]\n"
     ]
    },
    {
     "data": {
      "image/png": "[encoded data removed]",
      "text/plain": [
       "<Figure size 432x288 with 2 Axes>"
      ]
     },
     "metadata": {
      "needs_background": "light"
     },
     "output_type": "display_data"
    }
   ],
   "source": [
    "clf = MultinomialNB(alpha=2.2, fit_prior=True, class_prior=None)\n",
    "evaluate_classifier(clf,train_features=train_features,y_train=y_train)"
   ]
  },
  {
   "cell_type": "code",
   "execution_count": 110,
   "metadata": {},
   "outputs": [
    {
     "data": {
      "text/plain": [
       "MultinomialNB(alpha=2.2, class_prior=None, fit_prior=True)"
      ]
     },
     "execution_count": 110,
     "metadata": {},
     "output_type": "execute_result"
    }
   ],
   "source": [
    "clf.fit(train_features, y_train)"
   ]
  },
  {
   "cell_type": "code",
   "execution_count": 111,
   "metadata": {},
   "outputs": [],
   "source": []
  },
  {
   "cell_type": "code",
   "execution_count": 112,
   "metadata": {},
   "outputs": [
    {
     "name": "stdout",
     "output_type": "stream",
     "text": [
      "[[0.76322577 0.21821727 0.01855696]\n",
      " [0.22979178 0.7141599  0.05604831]\n",
      " [0.01182613 0.05422407 0.9339498 ]]\n"
     ]
    },
    {
     "data": {
      "image/png": "[encoded data removed]",
      "text/plain": [
       "<Figure size 432x288 with 2 Axes>"
      ]
     },
     "metadata": {
      "needs_background": "light"
     },
     "output_type": "display_data"
    }
   ],
   "source": [
    "y_pred = clf.predict(test_features)\n",
    "conf_mx = confusion_matrix(y_test, y_pred)\n",
    "plot_confusion_matrix(conf_mx, ['negativo','positivo','neutro'],\n",
    "                          normalize=True,\n",
    "                          title='Confusion matrix',\n",
    "                          cmap=plt.cm.Blues)"
   ]
  },
  {
   "cell_type": "code",
   "execution_count": 113,
   "metadata": {},
   "outputs": [
    {
     "name": "stdout",
     "output_type": "stream",
     "text": [
      "['Hoje eu estou com muita dor :/ #fimdesemana ']\n"
     ]
    }
   ],
   "source": [
    "tweet = 'Hoje eu estou com muita dor :/ #fimdesemana @arminio https://vidaloca'\n",
    "norm_tweet = normalize_tweet_corpus([tweet], only_text_chars=False)\n",
    "print(norm_tweet)\n",
    "tweet_features = vectorizer.transform(norm_tweet)\n",
    "\n"
   ]
  },
  {
   "cell_type": "code",
   "execution_count": 114,
   "metadata": {},
   "outputs": [
    {
     "data": {
      "text/plain": [
       "(1, 589456)"
      ]
     },
     "execution_count": 114,
     "metadata": {},
     "output_type": "execute_result"
    }
   ],
   "source": [
    "tweet_features.shape"
   ]
  },
  {
   "cell_type": "code",
   "execution_count": 118,
   "metadata": {},
   "outputs": [
    {
     "data": {
      "text/plain": [
       "0"
      ]
     },
     "execution_count": 118,
     "metadata": {},
     "output_type": "execute_result"
    }
   ],
   "source": [
    "int(clf.predict(tweet_features)[0])"
   ]
  },
  {
   "cell_type": "code",
   "execution_count": 116,
   "metadata": {},
   "outputs": [],
   "source": [
    "# Save a dictionary into a pickle file.\n",
    "import pickle\n",
    "\n",
    "pickle.dump( clf, open( \"model_sdg_svm.pickle\", \"wb\" ) )\n",
    "pickle.dump( vectorizer, open('vectorizer.pickle','wb'))"
   ]
  },
  {
   "cell_type": "code",
   "execution_count": 120,
   "metadata": {},
   "outputs": [
    {
     "data": {
      "text/plain": [
       "0"
      ]
     },
     "execution_count": 120,
     "metadata": {},
     "output_type": "execute_result"
    }
   ],
   "source": [
    "    # Getting back the vectorizer:\n",
    "    vectorizer = pickle.load( open( \"vectorizer.pickle\", \"rb\" ) )\n",
    "    tweet_features = vectorizer.transform(norm_tweet)\n",
    "\n",
    "    # Getting model\n",
    "    clf = pickle.load(open(\"model.pickle\", \"rb\"))\n",
    "    sentiment=int(clf.predict(tweet_features)[0])\n",
    "    sentiment"
   ]
  },
  {
   "cell_type": "markdown",
   "metadata": {},
   "source": [
    "## Try with one vs one"
   ]
  },
  {
   "cell_type": "code",
   "execution_count": 138,
   "metadata": {},
   "outputs": [
    {
     "name": "stdout",
     "output_type": "stream",
     "text": [
      "Accuracy: 0.798 (+/- 0.006)\n",
      "[[0.79392338 0.18946971 0.01660691]\n",
      " [0.27714124 0.66966813 0.05319063]\n",
      " [0.01725393 0.05370285 0.92904322]]\n"
     ]
    },
    {
     "data": {
      "image/png": "[encoded data removed]",
      "text/plain": [
       "<Figure size 432x288 with 2 Axes>"
      ]
     },
     "metadata": {
      "needs_background": "light"
     },
     "output_type": "display_data"
    }
   ],
   "source": [
    "from sklearn.multiclass import OneVsOneClassifier\n",
    "ovo_clf = OneVsOneClassifier(MultinomialNB())\n",
    "evaluate_classifier(ovo_clf,train_features, y_train)"
   ]
  },
  {
   "cell_type": "code",
   "execution_count": 148,
   "metadata": {},
   "outputs": [
    {
     "name": "stdout",
     "output_type": "stream",
     "text": [
      "Accuracy: 0.545 (+/- 0.014)\n",
      "[[0.65389696 0.21103712 0.13506592]\n",
      " [0.35621276 0.44450435 0.19928288]\n",
      " [0.19693743 0.26554876 0.53751382]]\n"
     ]
    },
    {
     "data": {
      "image/png": "[encoded data removed]",
      "text/plain": [
       "<Figure size 432x288 with 2 Axes>"
      ]
     },
     "metadata": {
      "needs_background": "light"
     },
     "output_type": "display_data"
    }
   ],
   "source": [
    "from sklearn.neighbors import KNeighborsClassifier\n",
    "clf = KNeighborsClassifier()\n",
    "evaluate_classifier(clf,train_features=train_features,y_train=y_train)"
   ]
  },
  {
   "cell_type": "code",
   "execution_count": 150,
   "metadata": {},
   "outputs": [
    {
     "name": "stdout",
     "output_type": "stream",
     "text": [
      "Accuracy: 0.789 (+/- 0.032)\n",
      "[[0.64869382 0.34809802 0.00320815]\n",
      " [0.36462405 0.61359286 0.02178309]\n",
      " [0.2017901  0.23788855 0.56032135]]\n"
     ]
    },
    {
     "data": {
      "image/png": "[encoded data removed]",
      "text/plain": [
       "<Figure size 432x288 with 2 Axes>"
      ]
     },
     "metadata": {
      "needs_background": "light"
     },
     "output_type": "display_data"
    }
   ],
   "source": [
    "from sklearn.neural_network import MLPClassifier\n",
    "clf = MLPClassifier(solver='lbfgs', \n",
    "                    alpha=1e-5,\n",
    "                    hidden_layer_sizes=(5, 2)\n",
    "                   )\n",
    "evaluate_classifier(clf,train_features=train_features,y_train=y_train)"
   ]
  },
  {
   "cell_type": "code",
   "execution_count": 151,
   "metadata": {},
   "outputs": [
    {
     "name": "stdout",
     "output_type": "stream",
     "text": [
      "Accuracy: 0.675 (+/- 0.342)\n",
      "[[0.70258539 0.27711428 0.02030033]\n",
      " [0.25940204 0.68611328 0.05448467]\n",
      " [0.0177392  0.060227   0.92203381]]\n"
     ]
    },
    {
     "data": {
      "image/png": "[encoded data removed]",
      "text/plain": [
       "<Figure size 432x288 with 2 Axes>"
      ]
     },
     "metadata": {
      "needs_background": "light"
     },
     "output_type": "display_data"
    }
   ],
   "source": [
    "from sklearn.neural_network import MLPClassifier\n",
    "clf = MLPClassifier(solver='adam', \n",
    "                    alpha=1e-5,\n",
    "                    hidden_layer_sizes=(4, 3)\n",
    "                   )\n",
    "evaluate_classifier(clf,train_features=train_features,y_train=y_train)"
   ]
  },
  {
   "cell_type": "markdown",
   "metadata": {},
   "source": [
    "### Fine tunning"
   ]
  },
  {
   "cell_type": "code",
   "execution_count": 153,
   "metadata": {},
   "outputs": [],
   "source": [
    "clf = MultinomialNB()"
   ]
  },
  {
   "cell_type": "code",
   "execution_count": 14,
   "metadata": {},
   "outputs": [],
   "source": [
    "from sklearn.model_selection import GridSearchCV\n",
    "\n",
    "prior = [None,\n",
    " [0.1, 0.1, 0.1],\n",
    " [0.2, 0.2, 0.2],\n",
    " [0.30000000000000004, 0.30000000000000004, 0.30000000000000004],\n",
    " [0.4, 0.4, 0.4],\n",
    " [0.5, 0.5, 0.5],\n",
    " [0.6000000000000001, 0.6000000000000001, 0.6000000000000001],\n",
    " [0.7000000000000001, 0.7000000000000001, 0.7000000000000001],\n",
    " [0.8, 0.8, 0.8],\n",
    " [0.9, 0.9, 0.9],\n",
    " [1.0, 1.0, 1.0]]\n",
    "\n",
    "param_grid = [\n",
    "    {'alpha':[0.1*i for i in range(1, 100)], 'fit_prior':[True,False], 'class_prior':prior}\n",
    "]\n",
    "\n",
    "clf = MultinomialNB()\n",
    "\n",
    "grid_search  = GridSearchCV(clf,param_grid, cv=5,scoring='accuracy')\n"
   ]
  },
  {
   "cell_type": "code",
   "execution_count": 15,
   "metadata": {},
   "outputs": [
    {
     "data": {
      "text/plain": [
       "GridSearchCV(cv=5, error_score='raise-deprecating',\n",
       "       estimator=MultinomialNB(alpha=1.0, class_prior=None, fit_prior=True),\n",
       "       fit_params=None, iid='warn', n_jobs=None,\n",
       "       param_grid=[{'alpha': [0.1, 0.2, 0.30000000000000004, 0.4, 0.5, 0.6000000000000001, 0.7000000000000001, 0.8, 0.9, 1.0, 1.1, 1.2000000000000002, 1.3, 1.4000000000000001, 1.5, 1.6, 1.7000000000000002, 1.8, 1.9000000000000001, 2.0, 2.1, 2.2, 2.3000000000000003, 2.4000000000000004, 2.5, 2.6, 2.7, 2.8000...00001, 0.7000000000000001, 0.7000000000000001], [0.8, 0.8, 0.8], [0.9, 0.9, 0.9], [1.0, 1.0, 1.0]]}],\n",
       "       pre_dispatch='2*n_jobs', refit=True, return_train_score='warn',\n",
       "       scoring='accuracy', verbose=0)"
      ]
     },
     "execution_count": 15,
     "metadata": {},
     "output_type": "execute_result"
    }
   ],
   "source": [
    "grid_search.fit(train_features, y_train)"
   ]
  },
  {
   "cell_type": "code",
   "execution_count": 17,
   "metadata": {},
   "outputs": [
    {
     "data": {
      "text/plain": [
       "MultinomialNB(alpha=2.2, class_prior=None, fit_prior=True)"
      ]
     },
     "execution_count": 17,
     "metadata": {},
     "output_type": "execute_result"
    }
   ],
   "source": [
    "grid_search.best_estimator_"
   ]
  },
  {
   "cell_type": "code",
   "execution_count": 18,
   "metadata": {},
   "outputs": [
    {
     "name": "stdout",
     "output_type": "stream",
     "text": [
      "Accuracy: 0.803 (+/- 0.004)\n",
      "[[0.77569892 0.20809856 0.01620252]\n",
      " [0.24155501 0.70118351 0.05726148]\n",
      " [0.01377618 0.05300191 0.9332219 ]]\n"
     ]
    },
    {
     "data": {
      "image/png": "[encoded data removed]",
      "text/plain": [
       "<Figure size 432x288 with 2 Axes>"
      ]
     },
     "metadata": {
      "needs_background": "light"
     },
     "output_type": "display_data"
    }
   ],
   "source": [
    "clf = MultinomialNB(alpha=2.2, fit_prior=True, class_prior=None)\n",
    "evaluate_classifier(clf,train_features, y_train)"
   ]
  },
  {
   "cell_type": "code",
   "execution_count": 21,
   "metadata": {},
   "outputs": [],
   "source": [
    "from sklearn.linear_model import SGDClassifier\n",
    "from sklearn.model_selection import GridSearchCV"
   ]
  },
  {
   "cell_type": "code",
   "execution_count": 22,
   "metadata": {},
   "outputs": [],
   "source": [
    "\n",
    "param_grid = [\n",
    "    {'loss':['hinge',\n",
    "             'log',\n",
    "             'modified_huber'\n",
    "            ], \n",
    "     'penalty': ['none','l2','l1'], \n",
    "     'alpha': [0.0001, 0.0005, 0.001, 0.01, 0.1, 1],\n",
    "     'l1_ratio': [i*0.1 for i in range(1,11)],\n",
    "     'fit_intercept' :[True,False],\n",
    "     'shuffle':[True,False], \n",
    "     'learning_rate':['optimal'],\n",
    "    }   \n",
    "]\n",
    "\n",
    "clf = SGDClassifier()\n",
    "\n",
    "grid_search  = GridSearchCV(clf,param_grid, cv=5,scoring='accuracy', n_jobs=-1)\n"
   ]
  },
  {
   "cell_type": "code",
   "execution_count": 23,
   "metadata": {},
   "outputs": [
    {
     "name": "stderr",
     "output_type": "stream",
     "text": [
      "/Users/Valdir.Salustino@ibm.com/.virtualenvs/DESAFIOTWITTER/lib/python3.7/site-packages/sklearn/linear_model/stochastic_gradient.py:166: FutureWarning: max_iter and tol parameters have been added in SGDClassifier in 0.19. If both are left unset, they default to max_iter=5 and tol=None. If tol is not None, max_iter defaults to max_iter=1000. From 0.21, default max_iter will be 1000, and default tol will be 1e-3.\n",
      "  FutureWarning)\n"
     ]
    },
    {
     "data": {
      "text/plain": [
       "GridSearchCV(cv=5, error_score='raise-deprecating',\n",
       "       estimator=SGDClassifier(alpha=0.0001, average=False, class_weight=None,\n",
       "       early_stopping=False, epsilon=0.1, eta0=0.0, fit_intercept=True,\n",
       "       l1_ratio=0.15, learning_rate='optimal', loss='hinge', max_iter=None,\n",
       "       n_iter=None, n_iter_no_change=5, n_jobs=None, penalty='l2',\n",
       "       power_t=0.5, random_state=None, shuffle=True, tol=None,\n",
       "       validation_fraction=0.1, verbose=0, warm_start=False),\n",
       "       fit_params=None, iid='warn', n_jobs=-1,\n",
       "       param_grid=[{'loss': ['hinge', 'log', 'modified_huber'], 'penalty': ['none', 'l2', 'l1'], 'alpha': [0.0001, 0.0005, 0.001, 0.01, 0.1, 1], 'l1_ratio': [0.1, 0.2, 0.30000000000000004, 0.4, 0.5, 0.6000000000000001, 0.7000000000000001, 0.8, 0.9, 1.0], 'fit_intercept': [True, False], 'shuffle': [True, False], 'learning_rate': ['optimal']}],\n",
       "       pre_dispatch='2*n_jobs', refit=True, return_train_score='warn',\n",
       "       scoring='accuracy', verbose=0)"
      ]
     },
     "execution_count": 23,
     "metadata": {},
     "output_type": "execute_result"
    }
   ],
   "source": [
    "grid_search.fit(train_features, y_train)"
   ]
  },
  {
   "cell_type": "code",
   "execution_count": 24,
   "metadata": {},
   "outputs": [
    {
     "data": {
      "text/plain": [
       "{'alpha': 0.0005,\n",
       " 'fit_intercept': True,\n",
       " 'l1_ratio': 0.5,\n",
       " 'learning_rate': 'optimal',\n",
       " 'loss': 'modified_huber',\n",
       " 'penalty': 'l2',\n",
       " 'shuffle': True}"
      ]
     },
     "execution_count": 24,
     "metadata": {},
     "output_type": "execute_result"
    }
   ],
   "source": [
    "grid_search.best_params_"
   ]
  },
  {
   "cell_type": "code",
   "execution_count": 25,
   "metadata": {},
   "outputs": [
    {
     "data": {
      "text/plain": [
       "SGDClassifier(alpha=0.0005, average=False, class_weight=None,\n",
       "       early_stopping=False, epsilon=0.1, eta0=0.0, fit_intercept=True,\n",
       "       l1_ratio=0.5, learning_rate='optimal', loss='modified_huber',\n",
       "       max_iter=None, n_iter=None, n_iter_no_change=5, n_jobs=None,\n",
       "       penalty='l2', power_t=0.5, random_state=None, shuffle=True,\n",
       "       tol=None, validation_fraction=0.1, verbose=0, warm_start=False)"
      ]
     },
     "execution_count": 25,
     "metadata": {},
     "output_type": "execute_result"
    }
   ],
   "source": [
    "grid_search.best_estimator_"
   ]
  },
  {
   "cell_type": "code",
   "execution_count": 26,
   "metadata": {},
   "outputs": [
    {
     "name": "stdout",
     "output_type": "stream",
     "text": [
      "Accuracy: 0.823 (+/- 0.003)\n"
     ]
    },
    {
     "name": "stderr",
     "output_type": "stream",
     "text": [
      "/Users/Valdir.Salustino@ibm.com/.virtualenvs/DESAFIOTWITTER/lib/python3.7/site-packages/sklearn/linear_model/stochastic_gradient.py:166: FutureWarning: max_iter and tol parameters have been added in SGDClassifier in 0.19. If both are left unset, they default to max_iter=5 and tol=None. If tol is not None, max_iter defaults to max_iter=1000. From 0.21, default max_iter will be 1000, and default tol will be 1e-3.\n",
      "  FutureWarning)\n"
     ]
    },
    {
     "name": "stdout",
     "output_type": "stream",
     "text": [
      "[[0.75647696 0.2345456  0.00897744]\n",
      " [0.2185318  0.75041113 0.03105707]\n",
      " [0.00647022 0.02873858 0.9647912 ]]\n"
     ]
    },
    {
     "data": {
      "image/png": "[encoded data removed]",
      "text/plain": [
       "<Figure size 432x288 with 2 Axes>"
      ]
     },
     "metadata": {
      "needs_background": "light"
     },
     "output_type": "display_data"
    }
   ],
   "source": [
    "clf = grid_search.best_estimator_\n",
    "evaluate_classifier(clf, train_features, y_train)"
   ]
  },
  {
   "cell_type": "code",
   "execution_count": 27,
   "metadata": {},
   "outputs": [
    {
     "data": {
      "text/plain": [
       "SGDClassifier(alpha=0.0005, average=False, class_weight=None,\n",
       "       early_stopping=False, epsilon=0.1, eta0=0.0, fit_intercept=True,\n",
       "       l1_ratio=0.5, learning_rate='optimal', loss='modified_huber',\n",
       "       max_iter=None, n_iter=None, n_iter_no_change=5, n_jobs=None,\n",
       "       penalty='l2', power_t=0.5, random_state=None, shuffle=True,\n",
       "       tol=None, validation_fraction=0.1, verbose=0, warm_start=False)"
      ]
     },
     "execution_count": 27,
     "metadata": {},
     "output_type": "execute_result"
    }
   ],
   "source": [
    "clf.fit(train_features, y_train)"
   ]
  },
  {
   "cell_type": "code",
   "execution_count": 28,
   "metadata": {},
   "outputs": [
    {
     "name": "stdout",
     "output_type": "stream",
     "text": [
      "[[0.7839844  0.20739762 0.00861798]\n",
      " [0.23998239 0.72843933 0.03157829]\n",
      " [0.00780021 0.02528779 0.966912  ]]\n"
     ]
    },
    {
     "data": {
      "image/png": "[encoded data removed]",
      "text/plain": [
       "<Figure size 432x288 with 2 Axes>"
      ]
     },
     "metadata": {
      "needs_background": "light"
     },
     "output_type": "display_data"
    }
   ],
   "source": [
    "y_pred = clf.predict(test_features)\n",
    "conf_mx = confusion_matrix(y_test, y_pred)\n",
    "plot_confusion_matrix(conf_mx, ['negativo','positivo','neutro'],\n",
    "                          normalize=True,\n",
    "                          title='Confusion matrix',\n",
    "                          cmap=plt.cm.Blues)"
   ]
  },
  {
   "cell_type": "code",
   "execution_count": 29,
   "metadata": {},
   "outputs": [],
   "source": [
    "# Save a dictionary into a pickle file.\n",
    "import pickle\n",
    "\n",
    "pickle.dump( clf, open( \"model_sdg_svm.pickle\", \"wb\" ) )\n",
    "pickle.dump( vectorizer, open('vectorizer.pickle','wb'))"
   ]
  },
  {
   "cell_type": "code",
   "execution_count": null,
   "metadata": {},
   "outputs": [],
   "source": []
  }
 ],
 "metadata": {
  "kernelspec": {
   "display_name": "Python 3",
   "language": "python",
   "name": "python3"
  },
  "language_info": {
   "codemirror_mode": {
    "name": "ipython",
    "version": 3
   },
   "file_extension": ".py",
   "mimetype": "text/x-python",
   "name": "python",
   "nbconvert_exporter": "python",
   "pygments_lexer": "ipython3",
   "version": "3.7.0"
  }
 },
 "nbformat": 4,
 "nbformat_minor": 2
}
